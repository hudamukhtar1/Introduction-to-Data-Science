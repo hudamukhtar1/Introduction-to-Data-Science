{
 "cells": [
  {
   "cell_type": "markdown",
   "metadata": {},
   "source": [
    "# Grade: /100 Mark(s)\n",
    "\n",
    "# Assignment 02: Maximum Likelihood\n",
    "\n",
    "\n",
    "### Maximum Likelihood\n",
    "\n",
    "The poisson distribution https://en.wikipedia.org/wiki/Poisson_distribution is a discrete probability distribution often used to describe count-based data, like how many snowflakes fall in a day.\n",
    "\n",
    "If we have count data $y$ that are influenced by a covariate or feature $x$, we can used the maximum likelihood principle to develop a regression model that estimates the mean of $Y$ given $X = x$.\n",
    "\n",
    "### Follow These Instructions\n",
    "\n",
    "Once you are finished, ensure to complete the following steps.\n",
    "\n",
    "1.  Restart your kernel by clicking 'Kernel' > 'Restart & Run All'.\n",
    "\n",
    "2.  Fix any errors which result from this.\n",
    "\n",
    "3.  Repeat steps 1. and 2. until your notebook runs without errors.\n",
    "\n",
    "4.  Submit your completed notebook to OWL by the deadline.\n"
   ]
  },
  {
   "cell_type": "code",
   "execution_count": 1,
   "metadata": {},
   "outputs": [],
   "source": [
    "#Packages for this assignment\n",
    "import numpy as np\n",
    "import matplotlib.pyplot as plt\n",
    "import pandas as pd\n",
    "from scipy.optimize import minimize\n",
    "from scipy.special import gammaln\n",
    "from sklearn import linear_model\n",
    "from IPython.display import display"
   ]
  },
  {
   "cell_type": "markdown",
   "metadata": {},
   "source": [
    "### Question 1: /10 Marks\n",
    "\n",
    "The negative log likelihood for a Poisson random variable is\n",
    "\n",
    "$$\\ell(\\lambda; \\mathbf{y}) = -\\sum_{i=1}^N\\Bigg(   y_{i}\\cdot \\ln(\\lambda) - \\lambda - \\ln(y_i!) \\Bigg)$$\n",
    "\n",
    "Here, $\\mathbf{y}$ is a vector of counts and $\\lambda$ is a scalar value.\n",
    "\n",
    "Write a function called `poissonNegLogLikelihood` that takes a vector of counts $\\mathbf{y}$ and a parameter $\\lambda$ and returns the negative log likelihood.  The $\\sum_{i} \\ln(y!)$ does not affect the location of the maximum, and so you can omit the $ \\ln(y!)$ in your function.\n",
    "\n",
    "Test your function by calling it with `lam = 1.3` and `y=np.array([2,1,0,0])`.\n",
    "\n",
    "What happens when you call the function when `lam=np.array([1,0.5,1,3])` and  `y=np.array([2,1,0,0])`? \n",
    "\n",
    "Answer the following below in markdown: What happens when you set an element of lam to 0 or a negative number and why? \n"
   ]
  },
  {
   "cell_type": "markdown",
   "metadata": {},
   "source": [
    "#### Answer to Question 1\n",
    "\n",
    "Let us set lam to 0"
   ]
  },
  {
   "cell_type": "code",
   "execution_count": 2,
   "metadata": {},
   "outputs": [
    {
     "name": "stdout",
     "output_type": "stream",
     "text": [
      "The negative log likelihood for a Poisson random variable is:  4.412907206597527\n",
      "The negative log likelihood for a Poisson random variable is:  6.193147180559945\n"
     ]
    }
   ],
   "source": [
    "# Import all the necessary packages: \n",
    "import numpy as np\n",
    "import matplotlib.pyplot as plt\n",
    "import pandas as pd\n",
    "from scipy.optimize import minimize\n",
    "from scipy.special import gammaln\n",
    "from sklearn import linear_model\n",
    "from IPython.display import display\n",
    "\n",
    "def poissonNegLogLikelihood(lam,y):\n",
    "    \n",
    "    # Read up on the gamma function to make sure you get the likelihood right!\n",
    "    neg_log_lik = -1 * ( ((y * (np.log(lam)) - lam) ).sum())\n",
    "    return neg_log_lik\n",
    "\n",
    "# test the function\n",
    "lam = 1.3\n",
    "y = np.array([2,1,0,0])\n",
    "print(\"The negative log likelihood for a Poisson random variable is: \", poissonNegLogLikelihood(lam,y))\n",
    "\n",
    "# test the function with new values\n",
    "lam = np.array([1,0.5,1,3])\n",
    "y = np.array([2,1,0,0])\n",
    "print(\"The negative log likelihood for a Poisson random variable is: \", poissonNegLogLikelihood(lam,y))"
   ]
  },
  {
   "cell_type": "code",
   "execution_count": 3,
   "metadata": {},
   "outputs": [
    {
     "name": "stdout",
     "output_type": "stream",
     "text": [
      "nan\n",
      "-inf\n",
      "nan\n",
      "nan\n",
      "nan\n"
     ]
    },
    {
     "name": "stderr",
     "output_type": "stream",
     "text": [
      "<ipython-input-2-7740dabd1ffc>:13: RuntimeWarning: divide by zero encountered in log\n",
      "  neg_log_lik = -1 * ( ((y * (np.log(lam)) - lam) ).sum())\n",
      "<ipython-input-2-7740dabd1ffc>:13: RuntimeWarning: invalid value encountered in multiply\n",
      "  neg_log_lik = -1 * ( ((y * (np.log(lam)) - lam) ).sum())\n",
      "<ipython-input-3-1ec035a185a0>:6: RuntimeWarning: divide by zero encountered in log\n",
      "  print(np.log(0))\n",
      "<ipython-input-3-1ec035a185a0>:7: RuntimeWarning: invalid value encountered in log\n",
      "  print(np.log(-1))\n",
      "<ipython-input-3-1ec035a185a0>:8: RuntimeWarning: invalid value encountered in log\n",
      "  print(np.log(-2))\n",
      "<ipython-input-3-1ec035a185a0>:9: RuntimeWarning: invalid value encountered in log\n",
      "  print(np.log(-3))\n"
     ]
    }
   ],
   "source": [
    "# make lam equal to 0\n",
    "lam = 0\n",
    "y = np.array([2,1,0,0])\n",
    "print(poissonNegLogLikelihood(lam,y))\n",
    "\n",
    "print(np.log(0))\n",
    "print(np.log(-1))\n",
    "print(np.log(-2))\n",
    "print(np.log(-3))"
   ]
  },
  {
   "cell_type": "markdown",
   "metadata": {},
   "source": [
    "This results in an error called nan, because ln is only defined for x values that are greater than 0."
   ]
  },
  {
   "cell_type": "markdown",
   "metadata": {},
   "source": [
    "---\n",
    "\n",
    "### Question 2: /15 Marks\n",
    "\n",
    "Write a function called `poissonRegressionNegLogLikelihood` that takes as arguments a vector $\\mathbf{y}$ of counts, a design matrix $\\mathbf{X}$ of features for each count, and a vector $\\mathbf{\\beta}$ of parameters. The function should return the negative log likelihood of this dataset, assuming that each element of  $\\mathbf{y}$ is independent and Poisson distributed with parameter $\\lambda = \\exp(\\mathbf{X}\\beta)$.\n",
    "\n",
    "Hint: You can use `poissonNegLogLikelihood` in this answer!\n",
    "Test your function by calling it with \n",
    "* `b=np.array([1,2])`\n",
    "* `X=np.array([[1,2,3],[2,3,1]]).T`\n",
    "* `y=np.array([0,2,10])`\n"
   ]
  },
  {
   "cell_type": "code",
   "execution_count": 4,
   "metadata": {},
   "outputs": [
    {
     "name": "stdout",
     "output_type": "stream",
     "text": [
      "The negative log likelihood for this dataset is:  3211.7843052468816\n"
     ]
    }
   ],
   "source": [
    "def poissonRegressionNegLogLikelihood(b, X, y):\n",
    "    #Enter the expression for lambda as shown above!\n",
    "    lam = np.exp(X@b)\n",
    "    # Use poissonNegLogLikelihood to compute the likelihood\n",
    "    neg_log_lik = poissonNegLogLikelihood(lam,y)\n",
    "    return neg_log_lik\n",
    "\n",
    "# test the function\n",
    "b=np.array([1,2])\n",
    "X=np.array([[1,2,3],[2,3,1]]).T\n",
    "y=np.array([0,2,10])\n",
    "print(\"The negative log likelihood for this dataset is: \", poissonRegressionNegLogLikelihood(b, X, y))\n"
   ]
  },
  {
   "cell_type": "markdown",
   "metadata": {},
   "source": [
    "### Question 3: /10 Marks\n",
    "\n",
    "a) In `poissonRegressionNegLogLikelihood`, why did we apply the exponential function to $\\mathbf{X}\\beta$?  Hint: Can an exponential ever be negative?\n",
    "\n",
    "b) What might have happened had we just passed $\\lambda = \\mathbf{X}\\beta$?\n",
    "\n",
    "Answer parts a) and b) below in this cell.  Write no more than 2 sentences per answer! \n",
    "\n",
    "---\n",
    "\n",
    "\n",
    "a) Applying the exponential function to $\\mathbf{X}\\beta$ allows the lambda value to remain positive so that the function does not have any errors. \n",
    "\n",
    "b) If we did not apply the exponential function, we would have received an error in calculating the negative log likelihood of the dataset.\n"
   ]
  },
  {
   "cell_type": "markdown",
   "metadata": {},
   "source": [
    "### Question 4: /5 Marks\n",
    "\n",
    "Write a function called `modelPrediction` which accepts as its first argument a vector of coefficents $\\beta$ and a design matrix $\\mathbf{X}$.  The function should return predictions of the form $\\widehat{\\mathbf{y}} = \\exp(\\mathbf{X}\\beta)$. \n",
    "\n",
    "Hint: Numpy implements the exponential using `np.exp`.  \n",
    "\n",
    "Test your function by calling it with \n",
    "* `b=np.array([1,2])`\n",
    "* `X=np.array([[1,2,3],[2,3,1]]).T`"
   ]
  },
  {
   "cell_type": "code",
   "execution_count": 5,
   "metadata": {},
   "outputs": [
    {
     "name": "stdout",
     "output_type": "stream",
     "text": [
      "[ 148.4131591  2980.95798704  148.4131591 ]\n"
     ]
    }
   ],
   "source": [
    "def modelPrediction(b,X):\n",
    "    yhat = np.exp(X@b)\n",
    "    return yhat\n",
    "\n",
    "# test the function\n",
    "b=np.array([1,2])\n",
    "X=np.array([[1,2,3],[2,3,1]]).T\n",
    "print(modelPrediction(b, X))"
   ]
  },
  {
   "cell_type": "markdown",
   "metadata": {},
   "source": [
    "### Question 5: /15 Marks\n",
    "\n",
    "Write a function called `fitModel` which accepts as its first argument argument a design matrix $\\mathbf{X}$ and as its second argument a vector of outcomes counts $\\mathbf{y}$. The function should return the maximum likelihood estimates for the coefficients of a Poisson regression of $\\mathbf{y}$ onto $\\mathbf{X}$.\n",
    "\n",
    "Test your function by calling it with \n",
    "* `X=np.array([[1,2,3],[2,3,1]]).T`\n",
    "* `y=np.array([0,2,10])`\n",
    "\n",
    "What is your estimated b? "
   ]
  },
  {
   "cell_type": "code",
   "execution_count": 6,
   "metadata": {},
   "outputs": [
    {
     "name": "stdout",
     "output_type": "stream",
     "text": [
      "The estimated betas are: [ 0.94827556 -0.52953519]\n"
     ]
    }
   ],
   "source": [
    "def fitModel(X,y):\n",
    "\n",
    "    # Instantiate a guess for the betas, beta_start, so that the optimizer has somewhere to start\n",
    "    # Keep in mind what shape the beta_start should be. It shoud have the same number of elements as X as columns \n",
    "    nrows,ncols = X.shape\n",
    "    beta_start = np.zeros((ncols,1))\n",
    "    # Minimize the appropriate likelihood function\n",
    "    mle = minimize(poissonRegressionNegLogLikelihood, beta_start, args=(X,y), method=\"Powell\", tol=1e-8)\n",
    "    # Extract the maximum likelihood estimates from the optimizer.\n",
    "    betas = mle.x\n",
    "    return betas\n",
    "\n",
    "# Write code to show your estimated b.\n",
    "X=np.array([[1,2,3],[2,3,1]]).T\n",
    "y=np.array([0,2,10])\n",
    "print(\"The estimated betas are:\", fitModel(X, y))"
   ]
  },
  {
   "cell_type": "markdown",
   "metadata": {},
   "source": [
    "### Question 6: /20 Mark(s)\n",
    "\n",
    "Load in the data from `poisson_regression_data.csv`. Plot a scatterplot of the data. Fit a poisson regression to this data using the functions you wrote above.  Plot the model predictions over $x \\in [-2,2]$ on the same graph as the scatterplot of the data.  "
   ]
  },
  {
   "cell_type": "code",
   "execution_count": 7,
   "metadata": {},
   "outputs": [
    {
     "data": {
      "text/plain": [
       "[<matplotlib.lines.Line2D at 0x7fa5bf884340>]"
      ]
     },
     "execution_count": 7,
     "metadata": {},
     "output_type": "execute_result"
    },
    {
     "data": {
      "image/png": "[encoded data removed]",
      "text/plain": [
       "<Figure size 720x480 with 1 Axes>"
      ]
     },
     "metadata": {
      "needs_background": "light"
     },
     "output_type": "display_data"
    }
   ],
   "source": [
    "# Loading in the data.  \n",
    "df = pd.read_csv(\"poisson_regression_data.csv\")\n",
    "\n",
    "fig, ax = plt.subplots(dpi = 120)\n",
    "\n",
    "# Scatterplot the data. \n",
    "df.plot.scatter(x='x', y='y', alpha=0.70, ax=ax)\n",
    "\n",
    "# Fit the model.  Use your functions.  \n",
    "x = df.x.values \n",
    "y = df.y.values\n",
    "ones = np.ones(len(x))\n",
    "X = np.c_[ones, x]\n",
    "\n",
    "# Find the maximum likelihood estimates for the coefficients for this data\n",
    "betas = fitModel(X, y)\n",
    "# Make predictions on new data\n",
    "newx = np.linspace(-2,2,1001)\n",
    "onesX = np.ones(len(newx))\n",
    "newX = np.c_[onesX, newx]\n",
    "\n",
    "# Make predictions on the new data\n",
    "y_predicted = modelPrediction(betas, newX)\n",
    "\n",
    "#Finally, plot the predictions on the same axis and color the predictions red\n",
    "ax.plot(newx, y_predicted, color = 'red')\n"
   ]
  },
  {
   "cell_type": "markdown",
   "metadata": {},
   "source": [
    "### Question 7:  /20 Marks\n",
    "\n",
    "Now apply linear regression (ordinary least squares) to the data, obtain parameter estimates and and plot the predictions over the same range.\n"
   ]
  },
  {
   "cell_type": "code",
   "execution_count": 8,
   "metadata": {},
   "outputs": [
    {
     "data": {
      "text/plain": [
       "[<matplotlib.lines.Line2D at 0x7fa5bfae32e0>]"
      ]
     },
     "execution_count": 8,
     "metadata": {},
     "output_type": "execute_result"
    },
    {
     "data": {
      "image/png": "[encoded data removed]",
      "text/plain": [
       "<Figure size 720x480 with 1 Axes>"
      ]
     },
     "metadata": {
      "needs_background": "light"
     },
     "output_type": "display_data"
    }
   ],
   "source": [
    "# Hint: Very similar to the previous assignment\n",
    "# Read in the data\n",
    "df = pd.read_csv(\"poisson_regression_data.csv\")\n",
    "x = df.x.values \n",
    "y = df.y.values\n",
    "ones = np.ones(len(x))\n",
    "X = np.c_[ones, x]\n",
    "\n",
    "# fit the model\n",
    "ols_fit = linear_model.LinearRegression()\n",
    "ols_fit.fit(X,y)\n",
    "newx = np.linspace(-2,2,1001)\n",
    "onesX = np.ones(len(newx))\n",
    "newX = np.c_[onesX, newx]\n",
    "\n",
    "# Make predictions over the range -2 to 2\n",
    "y_predicted = ols_fit.predict(newX)\n",
    "\n",
    "# Plot a scatter plot of the data and your model's predictions\n",
    "fig, ax = plt.subplots(dpi = 120)\n",
    "df.plot.scatter(x='x', y='y', alpha=0.70, ax=ax)\n",
    "ax.plot(newx, y_predicted, color = 'red')"
   ]
  },
  {
   "cell_type": "markdown",
   "metadata": {},
   "source": [
    "### Question 8: /5 Mark(s)\n",
    "\n",
    "Do you see any major problems with the predictions from linear regression? Keep in mind that this model is intended to model counts of things.  Provide your answer below in markdown in fewer than 5 sentences. "
   ]
  },
  {
   "cell_type": "markdown",
   "metadata": {},
   "source": [
    "#### Answer\n",
    "\n",
    "As shown in the graph, linear regression is not an accurate model of the data as the data follows a curve instead of a  line. Furthermore, the model is intended to model counts of things and so it cannot have a negative value."
   ]
  },
  {
   "cell_type": "markdown",
   "metadata": {},
   "source": [
    "### Follow These Instructions\n",
    "\n",
    "Once you are finished, ensure to complete the following steps.\n",
    "\n",
    "1.  Restart your kernel by clicking 'Kernel' > 'Restart & Run All'.\n",
    "\n",
    "2.  Fix any errors which result from this.\n",
    "\n",
    "3.  Repeat steps 1. and 2. until your notebook runs without errors.\n",
    "\n",
    "4.  Submit your completed notebook to OWL by the deadline."
   ]
  },
  {
   "cell_type": "code",
   "execution_count": null,
   "metadata": {},
   "outputs": [],
   "source": []
  }
 ],
 "metadata": {
  "kernelspec": {
   "display_name": "Python 3",
   "language": "python",
   "name": "python3"
  },
  "language_info": {
   "codemirror_mode": {
    "name": "ipython",
    "version": 3
   },
   "file_extension": ".py",
   "mimetype": "text/x-python",
   "name": "python",
   "nbconvert_exporter": "python",
   "pygments_lexer": "ipython3",
   "version": "3.8.8"
  }
 },
 "nbformat": 4,
 "nbformat_minor": 4
}

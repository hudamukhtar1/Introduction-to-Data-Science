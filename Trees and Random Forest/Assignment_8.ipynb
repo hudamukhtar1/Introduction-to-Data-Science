{
 "cells": [
  {
   "cell_type": "code",
   "execution_count": 24,
   "metadata": {},
   "outputs": [],
   "source": [
    "# You can import *ANYTHING* you want here.\n",
    "import numpy as np\n",
    "import matplotlib.pyplot as plt\n",
    "import matplotlib as mpl\n",
    "import seaborn as sns\n",
    "from sklearn.tree import DecisionTreeClassifier\n",
    "from sklearn.ensemble import BaggingClassifier, RandomForestClassifier\n",
    "from sklearn.metrics import accuracy_score\n",
    "import pandas as pd\n",
    "from sklearn.datasets import make_classification\n",
    "from sklearn.ensemble import BaggingClassifier, RandomForestClassifier, BaggingRegressor, RandomForestRegressor\n",
    "from sklearn.tree import DecisionTreeClassifier, DecisionTreeRegressor\n",
    "from tqdm import tqdm # this is just a tool to show a progress bar as your simulations are running"
   ]
  },
  {
   "cell_type": "markdown",
   "metadata": {},
   "source": [
    "# Assignment 10: Nested Spheres\n",
    "\n",
    "Simulation is an incredibly useful tool in data science.  We can use simulation to evaluate how algorithms perform against ground truth, and how algorithms compare to one another.\n",
    "\n",
    "In this assignment, you will be implementing and extending the nested spheres simulation study found in *Elements of Statistical Learning* page 339. https://web.stanford.edu/~hastie/ElemStatLearn/\n",
    "\n",
    "# Nested Spheres\n",
    "\n",
    "Consider a dataset which contains 10 features $X_1 \\,, X_2 \\,, \\cdots \\,, X_{10}$.  The features are standard independent Gaussian random variables.  That is to say\n",
    "\n",
    "$$ X_j \\sim \\operatorname{Normal}(0,1) \\quad \\forall j = 1 \\dots 10$$\n",
    "\n",
    "We are going to use these features to study a classification problem.  You will have to create the target variable, $Y$ by computing the following rule:\n",
    "\n",
    "$$ Y = \\begin{cases}  1 \\quad \\mbox{ if } \\sum_{j=1}^{10} X^2_j>9.34 \\\\ 0 \\quad  \\mbox{else} \\end{cases}$$\n",
    "\n",
    "# The Simulation Study\n",
    "\n",
    "Follow these steps to complete the assignment. "
   ]
  },
  {
   "cell_type": "markdown",
   "metadata": {},
   "source": [
    "### Part 1 ( X / 25 pts )\n",
    "Write a function, `generate_data`, that takes a dataset size N and creates a dataset according to the rule above, returning the feature matrix `X` and the labels `y`."
   ]
  },
  {
   "cell_type": "code",
   "execution_count": 88,
   "metadata": {},
   "outputs": [
    {
     "data": {
      "text/plain": [
       "(array([[-0.82899501, -0.56018104,  0.74729361,  0.61037027, -0.02090159,\n",
       "          0.11732738,  1.2776649 , -0.59157139,  0.54709738, -0.20219265],\n",
       "        [-0.2176812 ,  1.09877685,  0.82541635,  0.81350964,  1.30547881,\n",
       "          0.02100384,  0.68195297, -0.31026676,  0.32416635, -0.13014305],\n",
       "        [ 0.09699596,  0.59515703, -0.81822068,  2.09238728, -1.00601738,\n",
       "         -1.21418861,  1.15811087,  0.79166269,  0.62411982,  0.62834551],\n",
       "        [-0.01224677, -0.89725437,  0.07580456, -0.67716171,  0.97511973,\n",
       "         -0.14705738, -0.8254972 , -0.32138584,  0.41293145, -0.56372455],\n",
       "        [-0.8222204 ,  0.24368721,  0.24496657, -0.50694318, -0.47103831,\n",
       "          0.23204994, -1.44808434, -1.40746377, -0.71844422, -0.21344715],\n",
       "        [ 0.31090757,  1.47535622,  0.85765962, -0.15993853, -0.01901621,\n",
       "         -1.00252936, -0.01851314, -0.28865864,  0.32271856, -0.82723094],\n",
       "        [ 0.51934651,  1.53273891, -0.10876015,  0.40171172,  0.69014399,\n",
       "         -0.40122047,  0.22409248,  0.0125924 ,  0.0976761 , -0.77300978],\n",
       "        [ 0.02451017,  0.49799829,  1.45114361,  0.95927083,  2.15318246,\n",
       "         -0.76734756,  0.87232064,  0.18334201,  2.18980293, -0.80829829],\n",
       "        [-0.83972184, -0.59939265, -2.12389572, -0.52575502, -0.75913266,\n",
       "          0.15039379,  0.34175598,  1.87617084,  0.95042384, -0.57690366],\n",
       "        [-0.89841467,  0.49191917, -1.32023321,  1.83145877,  1.17944012,\n",
       "         -0.46917565, -1.71313453,  1.35387237, -0.11453985,  1.23781631]]),\n",
       " array([0, 0, 1, 0, 0, 0, 0, 1, 1, 1]))"
      ]
     },
     "execution_count": 88,
     "metadata": {},
     "output_type": "execute_result"
    }
   ],
   "source": [
    "def generate_data(N):\n",
    "    # Create feature matrix X and labels y\n",
    "    X = np.random.normal(size = (N, 10))\n",
    "    y = np.array([0] * N)   \n",
    "    for a in range(N):\n",
    "        sum = 0\n",
    "        for b in range(10):\n",
    "            sum += (X[a][b])**2\n",
    "        if (sum > 9.34):\n",
    "            y[a] = 1\n",
    "        else:\n",
    "            y[a] = 0      \n",
    "    return X,y\n",
    "generate_data(10)"
   ]
  },
  {
   "cell_type": "markdown",
   "metadata": {},
   "source": [
    "## Part 2 ( X / 25 pts )\n",
    "\n",
    "Write a function `run_simulation` that accepts two numbers, Ntrain and Ntest. It should generate a training set and testing set using your `generate_data` function and then train **four classifiers**. The first should be a bagged decision tree, the second should be a random forest with `max_features=1`, the third should be a random forest with `max_features=3`, and the fourth can be anything you like, for example a random forest with more features or an XGboost model. Use 500 trees in your random forests and the bagged classifier. The function should return the accuracy for each of these models estimated using the training set you generated."
   ]
  },
  {
   "cell_type": "code",
   "execution_count": 89,
   "metadata": {},
   "outputs": [],
   "source": [
    "def run_simulation(Ntrain,Ntest):\n",
    "    # Code to generate data and run one simulation   \n",
    "    # Create a tree model and a bagging from these trees\n",
    "    bag = BaggingClassifier(DecisionTreeClassifier(), n_estimators=500)\n",
    "    forest = RandomForestClassifier(max_features = 1, n_estimators=500)\n",
    "    forest2 = RandomForestClassifier(max_features = 3, n_estimators=500)\n",
    "    forest3 = RandomForestClassifier(max_features = 4, n_estimators=500)\n",
    "    newx, newy = generate_data(Ntest)\n",
    "    x,y = generate_data(Ntrain)\n",
    "    bag.fit(x,y)\n",
    "    forest.fit(x,y)\n",
    "    forest2.fit(x,y)\n",
    "    forest3.fit(x,y)\n",
    "    bag_ypred = bag.predict(newx)\n",
    "    forest_ypred = forest.predict(newx)\n",
    "    forest2_ypred = forest2.predict(newx)\n",
    "    forest3_ypred = forest3.predict(newx)        \n",
    "    bag_accuracy = accuracy_score(newy, bag_ypred)\n",
    "    rf_mf1_accuracy = accuracy_score(newy, forest_ypred)\n",
    "    rf_mf3_accuracy = accuracy_score(newy, forest2_ypred)\n",
    "    my_classifier_accuracy = accuracy_score(newy, forest3_ypred)\n",
    "    \n",
    "    return bag_accuracy, rf_mf1_accuracy, rf_mf3_accuracy, my_classifier_accuracy"
   ]
  },
  {
   "cell_type": "markdown",
   "metadata": {},
   "source": [
    "## Part 3 ( X / 25 pts )\n",
    "\n",
    "Run 50 simulations using a training set of size 1000 and a test set of size 5000 and record all the results in four vectors, one for each type of model. *You should probably debug your code using smaller training and test set sized first because these will take a while. The full simulation takes 10 minutes on my old 2.8GHz core i5 laptop.*"
   ]
  },
  {
   "cell_type": "code",
   "execution_count": 90,
   "metadata": {},
   "outputs": [
    {
     "name": "stderr",
     "output_type": "stream",
     "text": [
      "100%|██████████| 50/50 [10:51<00:00, 13.04s/it]\n"
     ]
    }
   ],
   "source": [
    "#Setup code to record results here:\n",
    "Nsim = 50\n",
    "a1 = list()\n",
    "a2 = list()\n",
    "a3 = list()\n",
    "a4 = list()\n",
    "#Loop to run simulations:\n",
    "for sim in tqdm(range(Nsim)):\n",
    "    # Run simulations, collect data\n",
    "    first, second, third, fourth = run_simulation(1000,5000)\n",
    "    a1.append(first)\n",
    "    a2.append(second)\n",
    "    a3.append(third)\n",
    "    a4.append(fourth)\n"
   ]
  },
  {
   "cell_type": "markdown",
   "metadata": {},
   "source": [
    "## Part 4 (X / 25 pts) \n",
    "Plot the error rates for each model using a boxplot for each one. The four models should be across the x-axis, and the y-axis should be accuracy."
   ]
  },
  {
   "cell_type": "code",
   "execution_count": 93,
   "metadata": {},
   "outputs": [
    {
     "data": {
      "image/png": "[encoded data removed]",
      "text/plain": [
       "<Figure size 432x288 with 1 Axes>"
      ]
     },
     "metadata": {
      "needs_background": "light"
     },
     "output_type": "display_data"
    }
   ],
   "source": [
    "#Plot the error rates as a box plot by model to complete the assignment.\n",
    "data = [a1,a2,a3,a4]\n",
    "fig, ax = plt.subplots()\n",
    "ax.set_title('Model Accuracies')\n",
    "ax.boxplot(data)\n",
    "ax.set_ylabel(\"Accuracy\")\n",
    "ax.set_xlabel(\"Models\")\n",
    "plt.show()"
   ]
  },
  {
   "cell_type": "code",
   "execution_count": null,
   "metadata": {},
   "outputs": [],
   "source": []
  }
 ],
 "metadata": {
  "kernelspec": {
   "display_name": "Python 3",
   "language": "python",
   "name": "python3"
  },
  "language_info": {
   "codemirror_mode": {
    "name": "ipython",
    "version": 3
   },
   "file_extension": ".py",
   "mimetype": "text/x-python",
   "name": "python",
   "nbconvert_exporter": "python",
   "pygments_lexer": "ipython3",
   "version": "3.8.3"
  }
 },
 "nbformat": 4,
 "nbformat_minor": 4
}
